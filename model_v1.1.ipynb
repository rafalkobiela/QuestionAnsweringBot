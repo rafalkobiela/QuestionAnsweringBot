{
 "cells": [
  {
   "cell_type": "code",
   "execution_count": 1,
   "metadata": {},
   "outputs": [],
   "source": [
    "import numpy as np\n",
    "import pandas as pd"
   ]
  },
  {
   "cell_type": "code",
   "execution_count": 2,
   "metadata": {},
   "outputs": [
    {
     "name": "stderr",
     "output_type": "stream",
     "text": [
      "D:\\ProgramData\\Anaconda3\\lib\\site-packages\\h5py\\__init__.py:36: FutureWarning: Conversion of the second argument of issubdtype from `float` to `np.floating` is deprecated. In future, it will be treated as `np.float64 == np.dtype(float).type`.\n",
      "  from ._conv import register_converters as _register_converters\n",
      "Using TensorFlow backend.\n"
     ]
    }
   ],
   "source": [
    "from keras import layers\n",
    "from keras import Input\n",
    "from keras.models import Model\n",
    "from keras.utils import to_categorical\n",
    "from keras.models import Sequential\n",
    "from keras.layers import Dense, Activation\n",
    "from keras import regularizers\n",
    "from keras import backend as K\n",
    "from keras import optimizers\n"
   ]
  },
  {
   "cell_type": "code",
   "execution_count": 13,
   "metadata": {},
   "outputs": [],
   "source": [
    "question = np.load('question.npy')\n",
    "negative = np.load('Negative.npy')\n",
    "positive = np.load('Positive.npy')"
   ]
  },
  {
   "cell_type": "code",
   "execution_count": 14,
   "metadata": {},
   "outputs": [],
   "source": [
    "rando = np.arange(len(question))\n",
    "np.random.shuffle(rando)\n",
    "question,negative,positive = question[rando],negative[rando],positive[rando]"
   ]
  },
  {
   "cell_type": "code",
   "execution_count": 43,
   "metadata": {},
   "outputs": [],
   "source": [
    "def triplet_loss(y_true,y_pred):\n",
    "    \n",
    "    \n",
    "    positive_pred = y_pred[:,1]\n",
    "    negative_pred = y_pred[:,0]\n",
    "    \n",
    "    sum_loss = 1 + positive_pred - negative_pred\n",
    "    \n",
    "    loss = K.maximum(sum_loss,0.0)\n",
    "    \n",
    "    return K.sum(loss)\n",
    "    "
   ]
  },
  {
   "cell_type": "code",
   "execution_count": 44,
   "metadata": {},
   "outputs": [],
   "source": [
    "def my_log_softmax(x):\n",
    "    return K.log(K.softmax(x))"
   ]
  },
  {
   "cell_type": "markdown",
   "metadata": {},
   "source": [
    "# SIEMASE + TRIPLET"
   ]
  },
  {
   "cell_type": "code",
   "execution_count": 45,
   "metadata": {},
   "outputs": [],
   "source": [
    "left_input = Input(shape=(20,300), name = 'n')\n",
    "mid_input = Input(shape=(20,300), name = 'q')\n",
    "right_input = Input(shape=(20,300), name = 'p')\n",
    "\n",
    "conv1 = layers.Conv1D(128,5, activation='tanh',kernel_regularizer=regularizers.l2(1e-4),input_shape = (None,20,300))\n",
    "max_pool1 = layers.MaxPooling1D(3)\n",
    "\n",
    "conv2 = layers.Conv1D(256, 3, activation='tanh',kernel_regularizer=regularizers.l2(1e-4))\n",
    "max_pool2 = layers.MaxPooling1D(2)\n",
    "avg_pool2 = layers.AveragePooling1D(2)\n",
    "\n",
    "\n",
    "\n",
    "\n",
    "flatten = layers.Flatten()\n",
    "\n",
    "\n",
    "left_output = conv1(left_input)\n",
    "left_output = max_pool1(left_output)\n",
    "\n",
    "left_output = conv2(left_output)\n",
    "left_output = layers.concatenate([max_pool2(left_output),avg_pool2(left_output)], axis = -1)\n",
    "\n",
    "left_output = flatten(left_output)\n",
    "\n",
    "\n",
    "mid_output = conv1(mid_input)\n",
    "mid_output = max_pool1(mid_output)\n",
    "\n",
    "mid_output = conv2(mid_output)\n",
    "mid_output = layers.concatenate([max_pool2(mid_output),avg_pool2(mid_output)], axis = -1)\n",
    "\n",
    "mid_output = flatten(mid_output)\n",
    "\n",
    "\n",
    "right_output = conv1(right_input)\n",
    "right_output = max_pool1(right_output)\n",
    "\n",
    "right_output = conv2(right_output)\n",
    "right_output = layers.concatenate([max_pool2(right_output),avg_pool2(right_output)], axis = -1)\n",
    "\n",
    "right_output = flatten(right_output)\n",
    "\n",
    "\n",
    "\n",
    "merged_L = layers.concatenate([left_output, mid_output], axis=-1)\n",
    "merged_R = layers.concatenate([right_output, mid_output], axis=-1)\n",
    "\n",
    "\n",
    "dens1 = layers.Dense(256,activation='tanh',kernel_regularizer=regularizers.l2(1e-4))\n",
    "\n",
    "droprout1 = layers.Dropout(0.5)\n",
    "\n",
    "merged_L = droprout1(dens1(merged_L))\n",
    "merged_R = droprout1(dens1(merged_R))\n",
    "\n",
    "\n",
    "\n",
    "dens2 = layers.Dense(256, activation='tanh',kernel_regularizer=regularizers.l2(1e-4))\n",
    "dens_pred = layers.Dense(1, activation='softmax',kernel_regularizer=regularizers.l2(1e-4))\n",
    "\n",
    "pred_L = dens_pred(dens2(merged_L))\n",
    "pred_R = dens_pred(dens2(merged_R))\n",
    "\n",
    "\n",
    "\n",
    "\n",
    "pred = layers.concatenate([pred_L,pred_R], axis = -1)\n",
    "\n",
    "model = Model(inputs = [left_input, mid_input, right_input], outputs = pred)\n"
   ]
  },
  {
   "cell_type": "markdown",
   "metadata": {},
   "source": [
    "# SAMO SIEMASE\n"
   ]
  },
  {
   "cell_type": "code",
   "execution_count": 18,
   "metadata": {},
   "outputs": [],
   "source": [
    "left_input = Input(shape=(20,300), name = 'n')\n",
    "mid_input = Input(shape=(20,300), name = 'q')\n",
    "# right_input = Input(shape=(20,300), name = 'p')\n",
    "\n",
    "conv1 = layers.Conv1D(128,5, activation='tanh',kernel_regularizer=regularizers.l2(1e-4),input_shape = (None,20,300))\n",
    "max_pool1 = layers.MaxPooling1D(3)\n",
    "\n",
    "conv2 = layers.Conv1D(256, 3, activation='tanh',kernel_regularizer=regularizers.l2(1e-4))\n",
    "max_pool2 = layers.MaxPooling1D(2)\n",
    "avg_pool2 = layers.AveragePooling1D(2)\n",
    "\n",
    "flatten = layers.Flatten()\n",
    "\n",
    "left_output = conv1(left_input)\n",
    "left_output = max_pool1(left_output)\n",
    "\n",
    "left_output = conv2(left_output)\n",
    "left_output = layers.concatenate([max_pool2(left_output),avg_pool2(left_output)], axis = -1)\n",
    "\n",
    "left_output = flatten(left_output)\n",
    "\n",
    "\n",
    "mid_output = conv1(mid_input)\n",
    "mid_output = max_pool1(mid_output)\n",
    "\n",
    "mid_output = conv2(mid_output)\n",
    "mid_output = layers.concatenate([max_pool2(mid_output),avg_pool2(mid_output)], axis = -1)\n",
    "\n",
    "mid_output = flatten(mid_output)\n",
    "\n",
    "\n",
    "\n",
    "merged_L = layers.concatenate([left_output, mid_output], axis=-1)\n",
    "# merged_R = layers.concatenate([right_output, mid_output], axis=-1)\n",
    "\n",
    "\n",
    "dens1 = layers.Dense(256,activation='tanh',kernel_regularizer=regularizers.l2(1e-4))\n",
    "\n",
    "droprout1 = layers.Dropout(0.5)\n",
    "\n",
    "merged_L = droprout1(dens1(merged_L))\n",
    "# merged_R = droprout1(dens1(merged_R))\n",
    "\n",
    "\n",
    "\n",
    "dens2 = layers.Dense(256, activation='tanh',kernel_regularizer=regularizers.l2(1e-4))\n",
    "dens_pred = layers.Dense(1, activation=my_log_softmax,kernel_regularizer=regularizers.l2(1e-4))\n",
    "\n",
    "# pred_L = dens_pred(dens2(merged_L))\n",
    "# pred_R = dens_pred(dens2(merged_R))\n",
    "\n",
    "dens_pred = dens_pred(dens2(merged_L))\n",
    "\n",
    "\n",
    "# pred = layers.concatenate([pred_L,pred_R], axis = -1)\n",
    "\n",
    "model = Model(inputs = [left_input, mid_input], outputs = dens_pred)"
   ]
  },
  {
   "cell_type": "code",
   "execution_count": 24,
   "metadata": {
    "scrolled": true
   },
   "outputs": [
    {
     "name": "stdout",
     "output_type": "stream",
     "text": [
      "__________________________________________________________________________________________________\n",
      "Layer (type)                    Output Shape         Param #     Connected to                     \n",
      "==================================================================================================\n",
      "n (InputLayer)                  (None, 20, 300)      0                                            \n",
      "__________________________________________________________________________________________________\n",
      "q (InputLayer)                  (None, 20, 300)      0                                            \n",
      "__________________________________________________________________________________________________\n",
      "p (InputLayer)                  (None, 20, 300)      0                                            \n",
      "__________________________________________________________________________________________________\n",
      "conv1d_9 (Conv1D)               (None, 16, 128)      192128      n[0][0]                          \n",
      "                                                                 q[0][0]                          \n",
      "                                                                 p[0][0]                          \n",
      "__________________________________________________________________________________________________\n",
      "max_pooling1d_9 (MaxPooling1D)  (None, 5, 128)       0           conv1d_9[0][0]                   \n",
      "                                                                 conv1d_9[1][0]                   \n",
      "                                                                 conv1d_9[2][0]                   \n",
      "__________________________________________________________________________________________________\n",
      "conv1d_10 (Conv1D)              (None, 3, 256)       98560       max_pooling1d_9[0][0]            \n",
      "                                                                 max_pooling1d_9[1][0]            \n",
      "                                                                 max_pooling1d_9[2][0]            \n",
      "__________________________________________________________________________________________________\n",
      "max_pooling1d_10 (MaxPooling1D) (None, 1, 256)       0           conv1d_10[0][0]                  \n",
      "                                                                 conv1d_10[1][0]                  \n",
      "                                                                 conv1d_10[2][0]                  \n",
      "__________________________________________________________________________________________________\n",
      "average_pooling1d_5 (AveragePoo (None, 1, 256)       0           conv1d_10[0][0]                  \n",
      "                                                                 conv1d_10[1][0]                  \n",
      "                                                                 conv1d_10[2][0]                  \n",
      "__________________________________________________________________________________________________\n",
      "concatenate_19 (Concatenate)    (None, 1, 512)       0           max_pooling1d_10[0][0]           \n",
      "                                                                 average_pooling1d_5[0][0]        \n",
      "__________________________________________________________________________________________________\n",
      "concatenate_20 (Concatenate)    (None, 1, 512)       0           max_pooling1d_10[1][0]           \n",
      "                                                                 average_pooling1d_5[1][0]        \n",
      "__________________________________________________________________________________________________\n",
      "concatenate_21 (Concatenate)    (None, 1, 512)       0           max_pooling1d_10[2][0]           \n",
      "                                                                 average_pooling1d_5[2][0]        \n",
      "__________________________________________________________________________________________________\n",
      "flatten_5 (Flatten)             (None, 512)          0           concatenate_19[0][0]             \n",
      "                                                                 concatenate_20[0][0]             \n",
      "                                                                 concatenate_21[0][0]             \n",
      "__________________________________________________________________________________________________\n",
      "concatenate_22 (Concatenate)    (None, 1024)         0           flatten_5[0][0]                  \n",
      "                                                                 flatten_5[1][0]                  \n",
      "__________________________________________________________________________________________________\n",
      "concatenate_23 (Concatenate)    (None, 1024)         0           flatten_5[2][0]                  \n",
      "                                                                 flatten_5[1][0]                  \n",
      "__________________________________________________________________________________________________\n",
      "dense_13 (Dense)                (None, 256)          262400      concatenate_22[0][0]             \n",
      "                                                                 concatenate_23[0][0]             \n",
      "__________________________________________________________________________________________________\n",
      "dropout_5 (Dropout)             (None, 256)          0           dense_13[0][0]                   \n",
      "                                                                 dense_13[1][0]                   \n",
      "__________________________________________________________________________________________________\n",
      "dense_14 (Dense)                (None, 256)          65792       dropout_5[0][0]                  \n",
      "                                                                 dropout_5[1][0]                  \n",
      "__________________________________________________________________________________________________\n",
      "dense_15 (Dense)                (None, 1)            257         dense_14[0][0]                   \n",
      "                                                                 dense_14[1][0]                   \n",
      "__________________________________________________________________________________________________\n",
      "concatenate_24 (Concatenate)    (None, 2)            0           dense_15[0][0]                   \n",
      "                                                                 dense_15[1][0]                   \n",
      "==================================================================================================\n",
      "Total params: 619,137\n",
      "Trainable params: 619,137\n",
      "Non-trainable params: 0\n",
      "__________________________________________________________________________________________________\n"
     ]
    }
   ],
   "source": [
    "model.summary()"
   ]
  },
  {
   "cell_type": "code",
   "execution_count": 46,
   "metadata": {},
   "outputs": [],
   "source": [
    "model.compile(loss=\"sparse_categorical_crossentropy\", \n",
    "              optimizer=optimizers.Adam(lr=0.1, beta_1=0.9, beta_2=0.999, epsilon=None, decay=0.0, amsgrad=False))"
   ]
  },
  {
   "cell_type": "code",
   "execution_count": 47,
   "metadata": {},
   "outputs": [],
   "source": [
    "etyk = np.random.randint(2, size=len(question)).astype(float)\n",
    "etyk[etyk > 0.0] = .99"
   ]
  },
  {
   "cell_type": "code",
   "execution_count": 48,
   "metadata": {},
   "outputs": [
    {
     "name": "stdout",
     "output_type": "stream",
     "text": [
      "Epoch 1/10\n",
      "8484/8484 [==============================] - 8s 945us/step - loss: 0.6953\n",
      "Epoch 2/10\n",
      "8484/8484 [==============================] - 7s 865us/step - loss: 0.6932\n",
      "Epoch 3/10\n",
      "8484/8484 [==============================] - 7s 862us/step - loss: 0.6932\n",
      "Epoch 4/10\n",
      "8484/8484 [==============================] - 7s 875us/step - loss: 0.6934\n",
      "Epoch 5/10\n",
      "8484/8484 [==============================] - 8s 888us/step - loss: 0.6935\n",
      "Epoch 6/10\n",
      "8484/8484 [==============================] - 8s 935us/step - loss: 0.6935\n",
      "Epoch 7/10\n",
      "8484/8484 [==============================] - 7s 882us/step - loss: 0.6935\n",
      "Epoch 8/10\n",
      "8484/8484 [==============================] - 7s 883us/step - loss: 0.6935\n",
      "Epoch 9/10\n",
      "8484/8484 [==============================] - 8s 953us/step - loss: 0.6934\n",
      "Epoch 10/10\n",
      "8484/8484 [==============================] - 9s 1ms/step - loss: 0.6935\n"
     ]
    },
    {
     "data": {
      "text/plain": [
       "<keras.callbacks.History at 0x2358b8c2b70>"
      ]
     },
     "execution_count": 48,
     "metadata": {},
     "output_type": "execute_result"
    }
   ],
   "source": [
    "model.fit({'n' : negative, 'q' : question, 'p' : positive},\n",
    "          etyk, #cokolwiek, nie istotne przy loss function          \n",
    "          epochs=10, \n",
    "          batch_size = 32, # cokolwiek w sumie\n",
    "          verbose=1)"
   ]
  },
  {
   "cell_type": "code",
   "execution_count": 41,
   "metadata": {},
   "outputs": [],
   "source": [
    "p = model.predict({'n' : negative, 'q' : question})#, 'p' : positive})"
   ]
  },
  {
   "cell_type": "code",
   "execution_count": 42,
   "metadata": {},
   "outputs": [
    {
     "data": {
      "text/plain": [
       "array([[1., 1.],\n",
       "       [1., 1.],\n",
       "       [1., 1.],\n",
       "       ...,\n",
       "       [1., 1.],\n",
       "       [1., 1.],\n",
       "       [1., 1.]], dtype=float32)"
      ]
     },
     "execution_count": 42,
     "metadata": {},
     "output_type": "execute_result"
    }
   ],
   "source": [
    "p"
   ]
  },
  {
   "cell_type": "code",
   "execution_count": null,
   "metadata": {},
   "outputs": [],
   "source": []
  }
 ],
 "metadata": {
  "kernelspec": {
   "display_name": "Python 3",
   "language": "python",
   "name": "python3"
  },
  "language_info": {
   "codemirror_mode": {
    "name": "ipython",
    "version": 3
   },
   "file_extension": ".py",
   "mimetype": "text/x-python",
   "name": "python",
   "nbconvert_exporter": "python",
   "pygments_lexer": "ipython3",
   "version": "3.6.4"
  }
 },
 "nbformat": 4,
 "nbformat_minor": 2
}
