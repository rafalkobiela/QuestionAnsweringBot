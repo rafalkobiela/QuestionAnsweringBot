{
 "cells": [
  {
   "cell_type": "code",
   "execution_count": 81,
   "metadata": {},
   "outputs": [],
   "source": [
    "import numpy as np\n",
    "import pandas as pd\n",
    "import matplotlib.pyplot as plt"
   ]
  },
  {
   "cell_type": "code",
   "execution_count": 82,
   "metadata": {},
   "outputs": [],
   "source": [
    "from keras import layers\n",
    "from keras import Input\n",
    "from keras.models import Model\n",
    "from keras.utils import to_categorical\n",
    "from keras.models import Sequential\n",
    "from keras.layers import Dense, Activation\n",
    "from keras import regularizers\n",
    "from keras import backend as K"
   ]
  },
  {
   "cell_type": "code",
   "execution_count": 91,
   "metadata": {},
   "outputs": [],
   "source": [
    "question = np.load('question.npy')\n",
    "negative = np.load('Negative.npy')\n",
    "positive = np.load('Positive.npy')"
   ]
  },
  {
   "cell_type": "code",
   "execution_count": 111,
   "metadata": {},
   "outputs": [],
   "source": [
    "def triplet_loss(y_true,y_pred):\n",
    "    \n",
    "    \n",
    "    positive_pred = y_pred[:,1]\n",
    "    negative_pred = y_pred[:,0]\n",
    "    \n",
    "    sum_loss = 1 - positive_pred + negative_pred\n",
    "    \n",
    "    loss = K.maximum(sum_loss,0)\n",
    "\n",
    "    \n",
    "    return K.mean(loss)"
   ]
  },
  {
   "cell_type": "code",
   "execution_count": 112,
   "metadata": {},
   "outputs": [],
   "source": [
    "def my_log_softmax(x):\n",
    "    return K.log(K.softmax(x))"
   ]
  },
  {
   "cell_type": "code",
   "execution_count": 113,
   "metadata": {},
   "outputs": [],
   "source": [
    "left_input = Input(shape=(5,300), name = 'n')\n",
    "mid_input = Input(shape=(5,300), name = 'q')\n",
    "right_input = Input(shape=(5,300), name = 'p')\n",
    "\n",
    "conv = layers.Conv1D(128, 2, activation='relu',kernel_regularizer=regularizers.l2(1e-4))\n",
    "max_pool = layers.MaxPooling1D(2)\n",
    "flatten = layers.Flatten()\n",
    "\n",
    "\n",
    "left_output = conv(left_input)\n",
    "left_output = max_pool(left_output)\n",
    "left_output = flatten(left_output)\n",
    "\n",
    "\n",
    "mid_output = conv(mid_input)\n",
    "mid_output = max_pool(mid_output)\n",
    "mid_output = flatten(mid_output)\n",
    "\n",
    "\n",
    "right_output = conv(right_input)\n",
    "right_output = max_pool(right_output)\n",
    "right_output = flatten(right_output)\n",
    "\n",
    "merged_L = layers.concatenate([left_output, mid_output], axis=-1)\n",
    "merged_R = layers.concatenate([right_output, mid_output], axis=-1)\n",
    "\n",
    "\n",
    "dens1 = layers.Dense(256,activation='tanh',kernel_regularizer=regularizers.l2(1e-4))\n",
    "\n",
    "droprout1 = layers.Dropout(0.5)\n",
    "\n",
    "merged_L = droprout1(dens1(merged_L))\n",
    "merged_R = droprout1(dens1(merged_R))\n",
    "\n",
    "\n",
    "\n",
    "dens2 = layers.Dense(256, activation='tanh',kernel_regularizer=regularizers.l2(1e-4))\n",
    "dens_pred = layers.Dense(1, activation=my_log_softmax,kernel_regularizer=regularizers.l2(1e-4))\n",
    "\n",
    "pred_L = dens_pred(dens2(merged_L))\n",
    "pred_R = dens_pred(dens2(merged_R))\n",
    "\n",
    "\n",
    "\n",
    "\n",
    "pred = layers.concatenate([pred_L,pred_R], axis = -1)\n",
    "\n",
    "model = Model(inputs = [left_input, mid_input, right_input], outputs = pred)\n"
   ]
  },
  {
   "cell_type": "code",
   "execution_count": 114,
   "metadata": {
    "scrolled": true
   },
   "outputs": [
    {
     "name": "stdout",
     "output_type": "stream",
     "text": [
      "__________________________________________________________________________________________________\n",
      "Layer (type)                    Output Shape         Param #     Connected to                     \n",
      "==================================================================================================\n",
      "n (InputLayer)                  (None, 5, 300)       0                                            \n",
      "__________________________________________________________________________________________________\n",
      "q (InputLayer)                  (None, 5, 300)       0                                            \n",
      "__________________________________________________________________________________________________\n",
      "p (InputLayer)                  (None, 5, 300)       0                                            \n",
      "__________________________________________________________________________________________________\n",
      "conv1d_18 (Conv1D)              (None, 4, 128)       76928       n[0][0]                          \n",
      "                                                                 q[0][0]                          \n",
      "                                                                 p[0][0]                          \n",
      "__________________________________________________________________________________________________\n",
      "max_pooling1d_18 (MaxPooling1D) (None, 2, 128)       0           conv1d_18[0][0]                  \n",
      "                                                                 conv1d_18[1][0]                  \n",
      "                                                                 conv1d_18[2][0]                  \n",
      "__________________________________________________________________________________________________\n",
      "flatten_18 (Flatten)            (None, 256)          0           max_pooling1d_18[0][0]           \n",
      "                                                                 max_pooling1d_18[1][0]           \n",
      "                                                                 max_pooling1d_18[2][0]           \n",
      "__________________________________________________________________________________________________\n",
      "concatenate_43 (Concatenate)    (None, 512)          0           flatten_18[0][0]                 \n",
      "                                                                 flatten_18[1][0]                 \n",
      "__________________________________________________________________________________________________\n",
      "concatenate_44 (Concatenate)    (None, 512)          0           flatten_18[2][0]                 \n",
      "                                                                 flatten_18[1][0]                 \n",
      "__________________________________________________________________________________________________\n",
      "dense_43 (Dense)                (None, 256)          131328      concatenate_43[0][0]             \n",
      "                                                                 concatenate_44[0][0]             \n",
      "__________________________________________________________________________________________________\n",
      "dropout_15 (Dropout)            (None, 256)          0           dense_43[0][0]                   \n",
      "                                                                 dense_43[1][0]                   \n",
      "__________________________________________________________________________________________________\n",
      "dense_44 (Dense)                (None, 256)          65792       dropout_15[0][0]                 \n",
      "                                                                 dropout_15[1][0]                 \n",
      "__________________________________________________________________________________________________\n",
      "dense_45 (Dense)                (None, 1)            257         dense_44[0][0]                   \n",
      "                                                                 dense_44[1][0]                   \n",
      "__________________________________________________________________________________________________\n",
      "concatenate_45 (Concatenate)    (None, 2)            0           dense_45[0][0]                   \n",
      "                                                                 dense_45[1][0]                   \n",
      "==================================================================================================\n",
      "Total params: 274,305\n",
      "Trainable params: 274,305\n",
      "Non-trainable params: 0\n",
      "__________________________________________________________________________________________________\n"
     ]
    }
   ],
   "source": [
    "model.summary()"
   ]
  },
  {
   "cell_type": "code",
   "execution_count": 115,
   "metadata": {},
   "outputs": [],
   "source": [
    "model.compile(loss=triplet_loss, optimizer=\"adam\")"
   ]
  },
  {
   "cell_type": "code",
   "execution_count": 116,
   "metadata": {},
   "outputs": [
    {
     "name": "stdout",
     "output_type": "stream",
     "text": [
      "Epoch 1/5\n",
      "8484/8484 [==============================] - 2s 264us/step - loss: 1.0258\n",
      "Epoch 2/5\n",
      "8484/8484 [==============================] - 1s 117us/step - loss: 1.0007\n",
      "Epoch 3/5\n",
      "8484/8484 [==============================] - 1s 116us/step - loss: 1.0000\n",
      "Epoch 4/5\n",
      "8484/8484 [==============================] - 1s 116us/step - loss: 1.0000\n",
      "Epoch 5/5\n",
      "8484/8484 [==============================] - 1s 117us/step - loss: 1.0000\n"
     ]
    }
   ],
   "source": [
    "history = model.fit({'n' : negative, 'q' : question, 'p' : positive},\n",
    "          np.zeros(len(question)), #cokolwiek, nie istotne przy loss function          \n",
    "          epochs=5, \n",
    "          batch_size = 100, # cokolwiek w sumie\n",
    "          verbose=1)"
   ]
  },
  {
   "cell_type": "code",
   "execution_count": 117,
   "metadata": {},
   "outputs": [
    {
     "data": {
      "text/plain": [
       "[<matplotlib.lines.Line2D at 0x24e3aa20dd8>]"
      ]
     },
     "execution_count": 117,
     "metadata": {},
     "output_type": "execute_result"
    },
    {
     "data": {
      "image/png": "[encoded data removed]",
      "text/plain": [
       "<matplotlib.figure.Figure at 0x24e3b4f3278>"
      ]
     },
     "metadata": {},
     "output_type": "display_data"
    }
   ],
   "source": [
    "plt.plot(history.history['loss'])"
   ]
  },
  {
   "cell_type": "code",
   "execution_count": null,
   "metadata": {},
   "outputs": [],
   "source": []
  }
 ],
 "metadata": {
  "kernelspec": {
   "display_name": "Python 3",
   "language": "python",
   "name": "python3"
  },
  "language_info": {
   "codemirror_mode": {
    "name": "ipython",
    "version": 3
   },
   "file_extension": ".py",
   "mimetype": "text/x-python",
   "name": "python",
   "nbconvert_exporter": "python",
   "pygments_lexer": "ipython3",
   "version": "3.6.4"
  }
 },
 "nbformat": 4,
 "nbformat_minor": 2
}
