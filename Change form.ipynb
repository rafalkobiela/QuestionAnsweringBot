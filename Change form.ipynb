{
 "cells": [
  {
   "cell_type": "code",
   "execution_count": 11,
   "metadata": {
    "collapsed": true
   },
   "outputs": [],
   "source": [
    "import pandas as pd"
   ]
  },
  {
   "cell_type": "code",
   "execution_count": 12,
   "metadata": {
    "collapsed": true
   },
   "outputs": [],
   "source": [
    "data = pd.read_csv(\"WikiQA.tsv\", sep=\"\\t\")"
   ]
  },
  {
   "cell_type": "code",
   "execution_count": 13,
   "metadata": {},
   "outputs": [
    {
     "data": {
      "text/html": [
       "<div>\n",
       "<style>\n",
       "    .dataframe thead tr:only-child th {\n",
       "        text-align: right;\n",
       "    }\n",
       "\n",
       "    .dataframe thead th {\n",
       "        text-align: left;\n",
       "    }\n",
       "\n",
       "    .dataframe tbody tr th {\n",
       "        vertical-align: top;\n",
       "    }\n",
       "</style>\n",
       "<table border=\"1\" class=\"dataframe\">\n",
       "  <thead>\n",
       "    <tr style=\"text-align: right;\">\n",
       "      <th></th>\n",
       "      <th>QuestionID</th>\n",
       "      <th>Question</th>\n",
       "      <th>DocumentID</th>\n",
       "      <th>DocumentTitle</th>\n",
       "      <th>SentenceID</th>\n",
       "      <th>Sentence</th>\n",
       "      <th>Label</th>\n",
       "    </tr>\n",
       "  </thead>\n",
       "  <tbody>\n",
       "    <tr>\n",
       "      <th>0</th>\n",
       "      <td>Q0</td>\n",
       "      <td>HOW AFRICAN AMERICANS WERE IMMIGRATED TO THE US</td>\n",
       "      <td>D0</td>\n",
       "      <td>African immigration to the United States</td>\n",
       "      <td>D0-0</td>\n",
       "      <td>African immigration to the United States refer...</td>\n",
       "      <td>0</td>\n",
       "    </tr>\n",
       "    <tr>\n",
       "      <th>1</th>\n",
       "      <td>Q0</td>\n",
       "      <td>HOW AFRICAN AMERICANS WERE IMMIGRATED TO THE US</td>\n",
       "      <td>D0</td>\n",
       "      <td>African immigration to the United States</td>\n",
       "      <td>D0-1</td>\n",
       "      <td>The term African in the scope of this article ...</td>\n",
       "      <td>0</td>\n",
       "    </tr>\n",
       "    <tr>\n",
       "      <th>2</th>\n",
       "      <td>Q0</td>\n",
       "      <td>HOW AFRICAN AMERICANS WERE IMMIGRATED TO THE US</td>\n",
       "      <td>D0</td>\n",
       "      <td>African immigration to the United States</td>\n",
       "      <td>D0-2</td>\n",
       "      <td>From the Immigration and Nationality Act of 19...</td>\n",
       "      <td>0</td>\n",
       "    </tr>\n",
       "    <tr>\n",
       "      <th>3</th>\n",
       "      <td>Q0</td>\n",
       "      <td>HOW AFRICAN AMERICANS WERE IMMIGRATED TO THE US</td>\n",
       "      <td>D0</td>\n",
       "      <td>African immigration to the United States</td>\n",
       "      <td>D0-3</td>\n",
       "      <td>African immigrants in the United States come f...</td>\n",
       "      <td>0</td>\n",
       "    </tr>\n",
       "    <tr>\n",
       "      <th>4</th>\n",
       "      <td>Q0</td>\n",
       "      <td>HOW AFRICAN AMERICANS WERE IMMIGRATED TO THE US</td>\n",
       "      <td>D0</td>\n",
       "      <td>African immigration to the United States</td>\n",
       "      <td>D0-4</td>\n",
       "      <td>They include people from different national, l...</td>\n",
       "      <td>0</td>\n",
       "    </tr>\n",
       "  </tbody>\n",
       "</table>\n",
       "</div>"
      ],
      "text/plain": [
       "  QuestionID                                         Question DocumentID  \\\n",
       "0         Q0  HOW AFRICAN AMERICANS WERE IMMIGRATED TO THE US         D0   \n",
       "1         Q0  HOW AFRICAN AMERICANS WERE IMMIGRATED TO THE US         D0   \n",
       "2         Q0  HOW AFRICAN AMERICANS WERE IMMIGRATED TO THE US         D0   \n",
       "3         Q0  HOW AFRICAN AMERICANS WERE IMMIGRATED TO THE US         D0   \n",
       "4         Q0  HOW AFRICAN AMERICANS WERE IMMIGRATED TO THE US         D0   \n",
       "\n",
       "                              DocumentTitle SentenceID  \\\n",
       "0  African immigration to the United States       D0-0   \n",
       "1  African immigration to the United States       D0-1   \n",
       "2  African immigration to the United States       D0-2   \n",
       "3  African immigration to the United States       D0-3   \n",
       "4  African immigration to the United States       D0-4   \n",
       "\n",
       "                                            Sentence  Label  \n",
       "0  African immigration to the United States refer...      0  \n",
       "1  The term African in the scope of this article ...      0  \n",
       "2  From the Immigration and Nationality Act of 19...      0  \n",
       "3  African immigrants in the United States come f...      0  \n",
       "4  They include people from different national, l...      0  "
      ]
     },
     "execution_count": 13,
     "metadata": {},
     "output_type": "execute_result"
    }
   ],
   "source": [
    "data.head()"
   ]
  },
  {
   "cell_type": "code",
   "execution_count": 14,
   "metadata": {},
   "outputs": [
    {
     "data": {
      "text/html": [
       "<div>\n",
       "<style>\n",
       "    .dataframe thead tr:only-child th {\n",
       "        text-align: right;\n",
       "    }\n",
       "\n",
       "    .dataframe thead th {\n",
       "        text-align: left;\n",
       "    }\n",
       "\n",
       "    .dataframe tbody tr th {\n",
       "        vertical-align: top;\n",
       "    }\n",
       "</style>\n",
       "<table border=\"1\" class=\"dataframe\">\n",
       "  <thead>\n",
       "    <tr style=\"text-align: right;\">\n",
       "      <th></th>\n",
       "      <th>QuestionID</th>\n",
       "      <th>Question</th>\n",
       "      <th>DocumentID</th>\n",
       "      <th>DocumentTitle</th>\n",
       "      <th>SentenceID</th>\n",
       "      <th>Sentence</th>\n",
       "      <th>Label</th>\n",
       "    </tr>\n",
       "  </thead>\n",
       "  <tbody>\n",
       "    <tr>\n",
       "      <th>3157</th>\n",
       "      <td>Q307</td>\n",
       "      <td>How did Edgar Allan Poe die?</td>\n",
       "      <td>D306</td>\n",
       "      <td>Edgar allan poe</td>\n",
       "      <td>D306-0</td>\n",
       "      <td>Edgar Allan Poe (born Edgar Poe; January 19, 1...</td>\n",
       "      <td>0</td>\n",
       "    </tr>\n",
       "    <tr>\n",
       "      <th>3158</th>\n",
       "      <td>Q307</td>\n",
       "      <td>How did Edgar Allan Poe die?</td>\n",
       "      <td>D306</td>\n",
       "      <td>Edgar allan poe</td>\n",
       "      <td>D306-1</td>\n",
       "      <td>Best known for his tales of mystery and the ma...</td>\n",
       "      <td>0</td>\n",
       "    </tr>\n",
       "    <tr>\n",
       "      <th>3159</th>\n",
       "      <td>Q307</td>\n",
       "      <td>How did Edgar Allan Poe die?</td>\n",
       "      <td>D306</td>\n",
       "      <td>Edgar allan poe</td>\n",
       "      <td>D306-2</td>\n",
       "      <td>He is further credited with contributing to th...</td>\n",
       "      <td>0</td>\n",
       "    </tr>\n",
       "    <tr>\n",
       "      <th>3160</th>\n",
       "      <td>Q307</td>\n",
       "      <td>How did Edgar Allan Poe die?</td>\n",
       "      <td>D306</td>\n",
       "      <td>Edgar allan poe</td>\n",
       "      <td>D306-3</td>\n",
       "      <td>He was the first well-known American writer to...</td>\n",
       "      <td>0</td>\n",
       "    </tr>\n",
       "    <tr>\n",
       "      <th>3161</th>\n",
       "      <td>Q307</td>\n",
       "      <td>How did Edgar Allan Poe die?</td>\n",
       "      <td>D306</td>\n",
       "      <td>Edgar allan poe</td>\n",
       "      <td>D306-4</td>\n",
       "      <td>He was born as Edgar Poe in Boston, Massachuse...</td>\n",
       "      <td>0</td>\n",
       "    </tr>\n",
       "    <tr>\n",
       "      <th>3162</th>\n",
       "      <td>Q307</td>\n",
       "      <td>How did Edgar Allan Poe die?</td>\n",
       "      <td>D306</td>\n",
       "      <td>Edgar allan poe</td>\n",
       "      <td>D306-5</td>\n",
       "      <td>Poe was taken in by John and Frances Allan, of...</td>\n",
       "      <td>0</td>\n",
       "    </tr>\n",
       "    <tr>\n",
       "      <th>3163</th>\n",
       "      <td>Q307</td>\n",
       "      <td>How did Edgar Allan Poe die?</td>\n",
       "      <td>D306</td>\n",
       "      <td>Edgar allan poe</td>\n",
       "      <td>D306-6</td>\n",
       "      <td>He attended the University of Virginia for one...</td>\n",
       "      <td>0</td>\n",
       "    </tr>\n",
       "    <tr>\n",
       "      <th>3164</th>\n",
       "      <td>Q307</td>\n",
       "      <td>How did Edgar Allan Poe die?</td>\n",
       "      <td>D306</td>\n",
       "      <td>Edgar allan poe</td>\n",
       "      <td>D306-7</td>\n",
       "      <td>After enlisting in the Army and later failing ...</td>\n",
       "      <td>0</td>\n",
       "    </tr>\n",
       "    <tr>\n",
       "      <th>3165</th>\n",
       "      <td>Q307</td>\n",
       "      <td>How did Edgar Allan Poe die?</td>\n",
       "      <td>D306</td>\n",
       "      <td>Edgar allan poe</td>\n",
       "      <td>D306-8</td>\n",
       "      <td>His publishing career began humbly, with an an...</td>\n",
       "      <td>0</td>\n",
       "    </tr>\n",
       "    <tr>\n",
       "      <th>3166</th>\n",
       "      <td>Q307</td>\n",
       "      <td>How did Edgar Allan Poe die?</td>\n",
       "      <td>D306</td>\n",
       "      <td>Edgar allan poe</td>\n",
       "      <td>D306-9</td>\n",
       "      <td>Poe switched his focus to prose and spent the ...</td>\n",
       "      <td>0</td>\n",
       "    </tr>\n",
       "    <tr>\n",
       "      <th>3167</th>\n",
       "      <td>Q307</td>\n",
       "      <td>How did Edgar Allan Poe die?</td>\n",
       "      <td>D306</td>\n",
       "      <td>Edgar allan poe</td>\n",
       "      <td>D306-10</td>\n",
       "      <td>His work forced him to move among several citi...</td>\n",
       "      <td>0</td>\n",
       "    </tr>\n",
       "    <tr>\n",
       "      <th>3168</th>\n",
       "      <td>Q307</td>\n",
       "      <td>How did Edgar Allan Poe die?</td>\n",
       "      <td>D306</td>\n",
       "      <td>Edgar allan poe</td>\n",
       "      <td>D306-11</td>\n",
       "      <td>In Baltimore in 1835, he married Virginia Clem...</td>\n",
       "      <td>0</td>\n",
       "    </tr>\n",
       "    <tr>\n",
       "      <th>3169</th>\n",
       "      <td>Q307</td>\n",
       "      <td>How did Edgar Allan Poe die?</td>\n",
       "      <td>D306</td>\n",
       "      <td>Edgar allan poe</td>\n",
       "      <td>D306-12</td>\n",
       "      <td>In January 1845 Poe published his poem, \" The ...</td>\n",
       "      <td>0</td>\n",
       "    </tr>\n",
       "    <tr>\n",
       "      <th>3170</th>\n",
       "      <td>Q307</td>\n",
       "      <td>How did Edgar Allan Poe die?</td>\n",
       "      <td>D306</td>\n",
       "      <td>Edgar allan poe</td>\n",
       "      <td>D306-13</td>\n",
       "      <td>His wife died of tuberculosis two years after ...</td>\n",
       "      <td>0</td>\n",
       "    </tr>\n",
       "    <tr>\n",
       "      <th>3171</th>\n",
       "      <td>Q307</td>\n",
       "      <td>How did Edgar Allan Poe die?</td>\n",
       "      <td>D306</td>\n",
       "      <td>Edgar allan poe</td>\n",
       "      <td>D306-14</td>\n",
       "      <td>He began planning to produce his own journal, ...</td>\n",
       "      <td>0</td>\n",
       "    </tr>\n",
       "    <tr>\n",
       "      <th>3172</th>\n",
       "      <td>Q307</td>\n",
       "      <td>How did Edgar Allan Poe die?</td>\n",
       "      <td>D306</td>\n",
       "      <td>Edgar allan poe</td>\n",
       "      <td>D306-15</td>\n",
       "      <td>On October 7, 1849, at age 40, Poe died in Bal...</td>\n",
       "      <td>1</td>\n",
       "    </tr>\n",
       "    <tr>\n",
       "      <th>3173</th>\n",
       "      <td>Q307</td>\n",
       "      <td>How did Edgar Allan Poe die?</td>\n",
       "      <td>D306</td>\n",
       "      <td>Edgar allan poe</td>\n",
       "      <td>D306-16</td>\n",
       "      <td>Poe and his works influenced literature in the...</td>\n",
       "      <td>0</td>\n",
       "    </tr>\n",
       "    <tr>\n",
       "      <th>3174</th>\n",
       "      <td>Q307</td>\n",
       "      <td>How did Edgar Allan Poe die?</td>\n",
       "      <td>D306</td>\n",
       "      <td>Edgar allan poe</td>\n",
       "      <td>D306-17</td>\n",
       "      <td>Poe and his work appear throughout popular cul...</td>\n",
       "      <td>0</td>\n",
       "    </tr>\n",
       "    <tr>\n",
       "      <th>3175</th>\n",
       "      <td>Q307</td>\n",
       "      <td>How did Edgar Allan Poe die?</td>\n",
       "      <td>D306</td>\n",
       "      <td>Edgar allan poe</td>\n",
       "      <td>D306-18</td>\n",
       "      <td>A number of his homes are dedicated museums to...</td>\n",
       "      <td>0</td>\n",
       "    </tr>\n",
       "    <tr>\n",
       "      <th>3176</th>\n",
       "      <td>Q307</td>\n",
       "      <td>How did Edgar Allan Poe die?</td>\n",
       "      <td>D306</td>\n",
       "      <td>Edgar allan poe</td>\n",
       "      <td>D306-19</td>\n",
       "      <td>The Mystery Writers of America present an annu...</td>\n",
       "      <td>0</td>\n",
       "    </tr>\n",
       "  </tbody>\n",
       "</table>\n",
       "</div>"
      ],
      "text/plain": [
       "     QuestionID                      Question DocumentID    DocumentTitle  \\\n",
       "3157       Q307  How did Edgar Allan Poe die?       D306  Edgar allan poe   \n",
       "3158       Q307  How did Edgar Allan Poe die?       D306  Edgar allan poe   \n",
       "3159       Q307  How did Edgar Allan Poe die?       D306  Edgar allan poe   \n",
       "3160       Q307  How did Edgar Allan Poe die?       D306  Edgar allan poe   \n",
       "3161       Q307  How did Edgar Allan Poe die?       D306  Edgar allan poe   \n",
       "3162       Q307  How did Edgar Allan Poe die?       D306  Edgar allan poe   \n",
       "3163       Q307  How did Edgar Allan Poe die?       D306  Edgar allan poe   \n",
       "3164       Q307  How did Edgar Allan Poe die?       D306  Edgar allan poe   \n",
       "3165       Q307  How did Edgar Allan Poe die?       D306  Edgar allan poe   \n",
       "3166       Q307  How did Edgar Allan Poe die?       D306  Edgar allan poe   \n",
       "3167       Q307  How did Edgar Allan Poe die?       D306  Edgar allan poe   \n",
       "3168       Q307  How did Edgar Allan Poe die?       D306  Edgar allan poe   \n",
       "3169       Q307  How did Edgar Allan Poe die?       D306  Edgar allan poe   \n",
       "3170       Q307  How did Edgar Allan Poe die?       D306  Edgar allan poe   \n",
       "3171       Q307  How did Edgar Allan Poe die?       D306  Edgar allan poe   \n",
       "3172       Q307  How did Edgar Allan Poe die?       D306  Edgar allan poe   \n",
       "3173       Q307  How did Edgar Allan Poe die?       D306  Edgar allan poe   \n",
       "3174       Q307  How did Edgar Allan Poe die?       D306  Edgar allan poe   \n",
       "3175       Q307  How did Edgar Allan Poe die?       D306  Edgar allan poe   \n",
       "3176       Q307  How did Edgar Allan Poe die?       D306  Edgar allan poe   \n",
       "\n",
       "     SentenceID                                           Sentence  Label  \n",
       "3157     D306-0  Edgar Allan Poe (born Edgar Poe; January 19, 1...      0  \n",
       "3158     D306-1  Best known for his tales of mystery and the ma...      0  \n",
       "3159     D306-2  He is further credited with contributing to th...      0  \n",
       "3160     D306-3  He was the first well-known American writer to...      0  \n",
       "3161     D306-4  He was born as Edgar Poe in Boston, Massachuse...      0  \n",
       "3162     D306-5  Poe was taken in by John and Frances Allan, of...      0  \n",
       "3163     D306-6  He attended the University of Virginia for one...      0  \n",
       "3164     D306-7  After enlisting in the Army and later failing ...      0  \n",
       "3165     D306-8  His publishing career began humbly, with an an...      0  \n",
       "3166     D306-9  Poe switched his focus to prose and spent the ...      0  \n",
       "3167    D306-10  His work forced him to move among several citi...      0  \n",
       "3168    D306-11  In Baltimore in 1835, he married Virginia Clem...      0  \n",
       "3169    D306-12  In January 1845 Poe published his poem, \" The ...      0  \n",
       "3170    D306-13  His wife died of tuberculosis two years after ...      0  \n",
       "3171    D306-14  He began planning to produce his own journal, ...      0  \n",
       "3172    D306-15  On October 7, 1849, at age 40, Poe died in Bal...      1  \n",
       "3173    D306-16  Poe and his works influenced literature in the...      0  \n",
       "3174    D306-17  Poe and his work appear throughout popular cul...      0  \n",
       "3175    D306-18  A number of his homes are dedicated museums to...      0  \n",
       "3176    D306-19  The Mystery Writers of America present an annu...      0  "
      ]
     },
     "execution_count": 14,
     "metadata": {},
     "output_type": "execute_result"
    }
   ],
   "source": [
    "data[data.Question==\"How did Edgar Allan Poe die?\"]"
   ]
  },
  {
   "cell_type": "code",
   "execution_count": 15,
   "metadata": {
    "collapsed": true
   },
   "outputs": [],
   "source": [
    "trueAnswers = data.groupby([\"Question\"])[\"Label\"].sum()"
   ]
  },
  {
   "cell_type": "code",
   "execution_count": 16,
   "metadata": {},
   "outputs": [
    {
     "data": {
      "text/html": [
       "<div>\n",
       "<style>\n",
       "    .dataframe thead tr:only-child th {\n",
       "        text-align: right;\n",
       "    }\n",
       "\n",
       "    .dataframe thead th {\n",
       "        text-align: left;\n",
       "    }\n",
       "\n",
       "    .dataframe tbody tr th {\n",
       "        vertical-align: top;\n",
       "    }\n",
       "</style>\n",
       "<table border=\"1\" class=\"dataframe\">\n",
       "  <thead>\n",
       "    <tr style=\"text-align: right;\">\n",
       "      <th></th>\n",
       "      <th>Label</th>\n",
       "    </tr>\n",
       "    <tr>\n",
       "      <th>Question</th>\n",
       "      <th></th>\n",
       "    </tr>\n",
       "  </thead>\n",
       "  <tbody>\n",
       "    <tr>\n",
       "      <th>HOW AFRICAN AMERICANS WERE IMMIGRATED TO THE US</th>\n",
       "      <td>1</td>\n",
       "    </tr>\n",
       "    <tr>\n",
       "      <th>HOW MANY BROTHELS WERE THERE IN THE UNITED STATES IN 1840'S</th>\n",
       "      <td>0</td>\n",
       "    </tr>\n",
       "    <tr>\n",
       "      <th>HOW MANY STRIPES ARE ON THE AMERICAN FLAG</th>\n",
       "      <td>2</td>\n",
       "    </tr>\n",
       "    <tr>\n",
       "      <th>HOW MANY TEAMS CAN A LEAGUE SEND TO LITTLE LEAGUE ALL-STARS</th>\n",
       "      <td>0</td>\n",
       "    </tr>\n",
       "    <tr>\n",
       "      <th>HOW MUCH IS CENTAVOS IN MEXICO</th>\n",
       "      <td>1</td>\n",
       "    </tr>\n",
       "    <tr>\n",
       "      <th>How Did Paul Bragg Die</th>\n",
       "      <td>0</td>\n",
       "    </tr>\n",
       "    <tr>\n",
       "      <th>How Do You Find the mean of the squares of the first 10 counting numbers</th>\n",
       "      <td>0</td>\n",
       "    </tr>\n",
       "    <tr>\n",
       "      <th>How Do You Get Hepatitis C</th>\n",
       "      <td>1</td>\n",
       "    </tr>\n",
       "    <tr>\n",
       "      <th>How Do You Play Spades</th>\n",
       "      <td>1</td>\n",
       "    </tr>\n",
       "    <tr>\n",
       "      <th>How Hydrogen Fuel For Cars Work</th>\n",
       "      <td>0</td>\n",
       "    </tr>\n",
       "    <tr>\n",
       "      <th>How LCD Monitors Work</th>\n",
       "      <td>0</td>\n",
       "    </tr>\n",
       "    <tr>\n",
       "      <th>How Lisa Loeb</th>\n",
       "      <td>0</td>\n",
       "    </tr>\n",
       "    <tr>\n",
       "      <th>How Many Judges of Israel</th>\n",
       "      <td>0</td>\n",
       "    </tr>\n",
       "    <tr>\n",
       "      <th>How Rich Is Donald Trump</th>\n",
       "      <td>0</td>\n",
       "    </tr>\n",
       "    <tr>\n",
       "      <th>How Works Diaphragm Pump</th>\n",
       "      <td>1</td>\n",
       "    </tr>\n",
       "    <tr>\n",
       "      <th>How are epithelial tissues joined together?</th>\n",
       "      <td>0</td>\n",
       "    </tr>\n",
       "    <tr>\n",
       "      <th>How are the directions of the velocity and force vectors related in a circular motion</th>\n",
       "      <td>0</td>\n",
       "    </tr>\n",
       "    <tr>\n",
       "      <th>How did Barry White die?</th>\n",
       "      <td>0</td>\n",
       "    </tr>\n",
       "    <tr>\n",
       "      <th>How did Bob Marley die?</th>\n",
       "      <td>0</td>\n",
       "    </tr>\n",
       "    <tr>\n",
       "      <th>How did Edgar Allan Poe die?</th>\n",
       "      <td>1</td>\n",
       "    </tr>\n",
       "    <tr>\n",
       "      <th>How did Frida Kahlo die?</th>\n",
       "      <td>0</td>\n",
       "    </tr>\n",
       "    <tr>\n",
       "      <th>How did Galahad prepare himself to become a knight?</th>\n",
       "      <td>0</td>\n",
       "    </tr>\n",
       "    <tr>\n",
       "      <th>How did Sen Wayne Morse die?</th>\n",
       "      <td>0</td>\n",
       "    </tr>\n",
       "    <tr>\n",
       "      <th>How did the flag of chile get created</th>\n",
       "      <td>0</td>\n",
       "    </tr>\n",
       "    <tr>\n",
       "      <th>How did the highwaymen get their name 1800</th>\n",
       "      <td>0</td>\n",
       "    </tr>\n",
       "    <tr>\n",
       "      <th>How did the pendulum improve upon earlier clocks?</th>\n",
       "      <td>0</td>\n",
       "    </tr>\n",
       "    <tr>\n",
       "      <th>How did women work for equal rights during the women's movement? Were their efforts successful?</th>\n",
       "      <td>0</td>\n",
       "    </tr>\n",
       "    <tr>\n",
       "      <th>How do you do Mouth   MacNeal</th>\n",
       "      <td>0</td>\n",
       "    </tr>\n",
       "    <tr>\n",
       "      <th>How does Chronic Kidney Disease stage 4 effect Diabetics</th>\n",
       "      <td>0</td>\n",
       "    </tr>\n",
       "    <tr>\n",
       "      <th>How does the hydrophobic and hydrophilic nature of the phospholipid layer regulate what enters and leaves the cell?</th>\n",
       "      <td>0</td>\n",
       "    </tr>\n",
       "    <tr>\n",
       "      <th>...</th>\n",
       "      <td>...</td>\n",
       "    </tr>\n",
       "    <tr>\n",
       "      <th>who won antm cycle 12</th>\n",
       "      <td>1</td>\n",
       "    </tr>\n",
       "    <tr>\n",
       "      <th>who won fifa world cup 2010</th>\n",
       "      <td>1</td>\n",
       "    </tr>\n",
       "    <tr>\n",
       "      <th>who won season 2 of project runway</th>\n",
       "      <td>1</td>\n",
       "    </tr>\n",
       "    <tr>\n",
       "      <th>who won the 1967 nba championship</th>\n",
       "      <td>1</td>\n",
       "    </tr>\n",
       "    <tr>\n",
       "      <th>who won the 1998 world cup</th>\n",
       "      <td>1</td>\n",
       "    </tr>\n",
       "    <tr>\n",
       "      <th>who won the 2009 super bowl</th>\n",
       "      <td>1</td>\n",
       "    </tr>\n",
       "    <tr>\n",
       "      <th>who won the 2010 world cup</th>\n",
       "      <td>1</td>\n",
       "    </tr>\n",
       "    <tr>\n",
       "      <th>who won the SC election 2010</th>\n",
       "      <td>0</td>\n",
       "    </tr>\n",
       "    <tr>\n",
       "      <th>who won the most nba championships</th>\n",
       "      <td>1</td>\n",
       "    </tr>\n",
       "    <tr>\n",
       "      <th>who won the super in xl1</th>\n",
       "      <td>1</td>\n",
       "    </tr>\n",
       "    <tr>\n",
       "      <th>who won the women's world cup</th>\n",
       "      <td>1</td>\n",
       "    </tr>\n",
       "    <tr>\n",
       "      <th>who wrote  nature boy</th>\n",
       "      <td>1</td>\n",
       "    </tr>\n",
       "    <tr>\n",
       "      <th>who wrote a rose is a rose is a rose</th>\n",
       "      <td>1</td>\n",
       "    </tr>\n",
       "    <tr>\n",
       "      <th>who wrote life liberty and the pur</th>\n",
       "      <td>0</td>\n",
       "    </tr>\n",
       "    <tr>\n",
       "      <th>who wrote puff the magic dragon</th>\n",
       "      <td>1</td>\n",
       "    </tr>\n",
       "    <tr>\n",
       "      <th>who wrote rhythm of the ancient mariner</th>\n",
       "      <td>1</td>\n",
       "    </tr>\n",
       "    <tr>\n",
       "      <th>who wrote second corinthians</th>\n",
       "      <td>1</td>\n",
       "    </tr>\n",
       "    <tr>\n",
       "      <th>who wrote serenity prayer</th>\n",
       "      <td>1</td>\n",
       "    </tr>\n",
       "    <tr>\n",
       "      <th>who wrote stand by me</th>\n",
       "      <td>1</td>\n",
       "    </tr>\n",
       "    <tr>\n",
       "      <th>who wrote the famous novel Great books of  the western world volume 27?</th>\n",
       "      <td>0</td>\n",
       "    </tr>\n",
       "    <tr>\n",
       "      <th>who wrote the song a little more country than that&gt;</th>\n",
       "      <td>1</td>\n",
       "    </tr>\n",
       "    <tr>\n",
       "      <th>who wrote the song cocaine</th>\n",
       "      <td>1</td>\n",
       "    </tr>\n",
       "    <tr>\n",
       "      <th>who wrote the song feelin alright</th>\n",
       "      <td>1</td>\n",
       "    </tr>\n",
       "    <tr>\n",
       "      <th>who wrote the song for star wars</th>\n",
       "      <td>1</td>\n",
       "    </tr>\n",
       "    <tr>\n",
       "      <th>who wrote the song hallelujah</th>\n",
       "      <td>1</td>\n",
       "    </tr>\n",
       "    <tr>\n",
       "      <th>who wrote the song in the mood</th>\n",
       "      <td>1</td>\n",
       "    </tr>\n",
       "    <tr>\n",
       "      <th>who wrote the song the end by pearl jam</th>\n",
       "      <td>0</td>\n",
       "    </tr>\n",
       "    <tr>\n",
       "      <th>who wrote west side story</th>\n",
       "      <td>1</td>\n",
       "    </tr>\n",
       "    <tr>\n",
       "      <th>who wrote what's my name rihanna</th>\n",
       "      <td>1</td>\n",
       "    </tr>\n",
       "    <tr>\n",
       "      <th>who wrote white christmas</th>\n",
       "      <td>1</td>\n",
       "    </tr>\n",
       "  </tbody>\n",
       "</table>\n",
       "<p>3044 rows × 1 columns</p>\n",
       "</div>"
      ],
      "text/plain": [
       "                                                    Label\n",
       "Question                                                 \n",
       "HOW AFRICAN AMERICANS WERE IMMIGRATED TO THE US         1\n",
       "HOW MANY BROTHELS WERE THERE IN THE UNITED STAT...      0\n",
       "HOW MANY STRIPES ARE ON THE AMERICAN FLAG               2\n",
       "HOW MANY TEAMS CAN A LEAGUE SEND TO LITTLE LEAG...      0\n",
       "HOW MUCH IS CENTAVOS IN MEXICO                          1\n",
       "How Did Paul Bragg Die                                  0\n",
       "How Do You Find the mean of the squares of the ...      0\n",
       "How Do You Get Hepatitis C                              1\n",
       "How Do You Play Spades                                  1\n",
       "How Hydrogen Fuel For Cars Work                         0\n",
       "How LCD Monitors Work                                   0\n",
       "How Lisa Loeb                                           0\n",
       "How Many Judges of Israel                               0\n",
       "How Rich Is Donald Trump                                0\n",
       "How Works Diaphragm Pump                                1\n",
       "How are epithelial tissues joined together?             0\n",
       "How are the directions of the velocity and forc...      0\n",
       "How did Barry White die?                                0\n",
       "How did Bob Marley die?                                 0\n",
       "How did Edgar Allan Poe die?                            1\n",
       "How did Frida Kahlo die?                                0\n",
       "How did Galahad prepare himself to become a kni...      0\n",
       "How did Sen Wayne Morse die?                            0\n",
       "How did the flag of chile get created                   0\n",
       "How did the highwaymen get their name 1800              0\n",
       "How did the pendulum improve upon earlier clocks?       0\n",
       "How did women work for equal rights during the ...      0\n",
       "How do you do Mouth   MacNeal                           0\n",
       "How does Chronic Kidney Disease stage 4 effect ...      0\n",
       "How does the hydrophobic and hydrophilic nature...      0\n",
       "...                                                   ...\n",
       "who won antm cycle 12                                   1\n",
       "who won fifa world cup 2010                             1\n",
       "who won season 2 of project runway                      1\n",
       "who won the 1967 nba championship                       1\n",
       "who won the 1998 world cup                              1\n",
       "who won the 2009 super bowl                             1\n",
       "who won the 2010 world cup                              1\n",
       "who won the SC election 2010                            0\n",
       "who won the most nba championships                      1\n",
       "who won the super in xl1                                1\n",
       "who won the women's world cup                           1\n",
       "who wrote  nature boy                                   1\n",
       "who wrote a rose is a rose is a rose                    1\n",
       "who wrote life liberty and the pur                      0\n",
       "who wrote puff the magic dragon                         1\n",
       "who wrote rhythm of the ancient mariner                 1\n",
       "who wrote second corinthians                            1\n",
       "who wrote serenity prayer                               1\n",
       "who wrote stand by me                                   1\n",
       "who wrote the famous novel Great books of  the ...      0\n",
       "who wrote the song a little more country than t...      1\n",
       "who wrote the song cocaine                              1\n",
       "who wrote the song feelin alright                       1\n",
       "who wrote the song for star wars                        1\n",
       "who wrote the song hallelujah                           1\n",
       "who wrote the song in the mood                          1\n",
       "who wrote the song the end by pearl jam                 0\n",
       "who wrote west side story                               1\n",
       "who wrote what's my name rihanna                        1\n",
       "who wrote white christmas                               1\n",
       "\n",
       "[3044 rows x 1 columns]"
      ]
     },
     "execution_count": 16,
     "metadata": {},
     "output_type": "execute_result"
    }
   ],
   "source": [
    "pd.DataFrame(trueAnswers)"
   ]
  },
  {
   "cell_type": "code",
   "execution_count": 17,
   "metadata": {},
   "outputs": [
    {
     "data": {
      "text/plain": [
       "1806"
      ]
     },
     "execution_count": 17,
     "metadata": {},
     "output_type": "execute_result"
    }
   ],
   "source": [
    "sum(trueAnswers == 0)"
   ]
  },
  {
   "cell_type": "code",
   "execution_count": 18,
   "metadata": {},
   "outputs": [
    {
     "data": {
      "text/plain": [
       "1064"
      ]
     },
     "execution_count": 18,
     "metadata": {},
     "output_type": "execute_result"
    }
   ],
   "source": [
    "sum(trueAnswers == 1)"
   ]
  },
  {
   "cell_type": "code",
   "execution_count": 19,
   "metadata": {},
   "outputs": [
    {
     "data": {
      "text/plain": [
       "137"
      ]
     },
     "execution_count": 19,
     "metadata": {},
     "output_type": "execute_result"
    }
   ],
   "source": [
    "sum(trueAnswers == 2)"
   ]
  },
  {
   "cell_type": "code",
   "execution_count": 20,
   "metadata": {},
   "outputs": [
    {
     "data": {
      "text/plain": [
       "26"
      ]
     },
     "execution_count": 20,
     "metadata": {},
     "output_type": "execute_result"
    }
   ],
   "source": [
    "sum(trueAnswers == 3)"
   ]
  },
  {
   "cell_type": "code",
   "execution_count": 21,
   "metadata": {},
   "outputs": [
    {
     "data": {
      "text/plain": [
       "7"
      ]
     },
     "execution_count": 21,
     "metadata": {},
     "output_type": "execute_result"
    }
   ],
   "source": [
    "sum(trueAnswers ==4)"
   ]
  },
  {
   "cell_type": "code",
   "execution_count": 22,
   "metadata": {},
   "outputs": [
    {
     "data": {
      "text/plain": [
       "1"
      ]
     },
     "execution_count": 22,
     "metadata": {},
     "output_type": "execute_result"
    }
   ],
   "source": [
    "sum(trueAnswers == 5)"
   ]
  },
  {
   "cell_type": "code",
   "execution_count": 23,
   "metadata": {},
   "outputs": [
    {
     "data": {
      "text/plain": [
       "1"
      ]
     },
     "execution_count": 23,
     "metadata": {},
     "output_type": "execute_result"
    }
   ],
   "source": [
    "sum(trueAnswers == 6)"
   ]
  },
  {
   "cell_type": "code",
   "execution_count": 24,
   "metadata": {},
   "outputs": [
    {
     "data": {
      "text/plain": [
       "2"
      ]
     },
     "execution_count": 24,
     "metadata": {},
     "output_type": "execute_result"
    }
   ],
   "source": [
    "sum(trueAnswers == 7)"
   ]
  },
  {
   "cell_type": "code",
   "execution_count": 25,
   "metadata": {},
   "outputs": [
    {
     "data": {
      "text/plain": [
       "0"
      ]
     },
     "execution_count": 25,
     "metadata": {},
     "output_type": "execute_result"
    }
   ],
   "source": [
    "sum(trueAnswers > 7)"
   ]
  },
  {
   "cell_type": "code",
   "execution_count": 26,
   "metadata": {
    "collapsed": true
   },
   "outputs": [],
   "source": [
    "grouped = data.groupby([\"Question\"])"
   ]
  },
  {
   "cell_type": "code",
   "execution_count": 27,
   "metadata": {
    "collapsed": true
   },
   "outputs": [],
   "source": [
    "final_df = pd.DataFrame(columns=[\"Question\", \"Pos_answer\", \"Neg_answer\"])"
   ]
  },
  {
   "cell_type": "code",
   "execution_count": 28,
   "metadata": {},
   "outputs": [
    {
     "name": "stdout",
     "output_type": "stream",
     "text": [
      "3172    On October 7, 1849, at age 40, Poe died in Bal...\n",
      "Name: Sentence, dtype: object\n"
     ]
    }
   ],
   "source": [
    "for question, answers in grouped:    \n",
    "    positive_answers = answers[answers.Label == 1][\"Sentence\"]\n",
    "    negative_answers = answers[answers.Label == 0][\"Sentence\"]\n",
    "\n",
    "    if (question==\"How did Edgar Allan Poe die?\"):\n",
    "        print(positive_answers)\n",
    "    \n",
    "    pos = len(positive_answers)\n",
    "    neg = len(negative_answers)\n",
    "    \n",
    "    if (neg != 0 and pos !=0):\n",
    "        for i in range(pos):\n",
    "            for j in range(neg):\n",
    "                final_df = final_df.append({ \"Question\":question, \"Pos_answer\": positive_answers.iloc[i],\n",
    "                                 \"Neg_answer\": negative_answers.iloc[j]}, ignore_index=True)"
   ]
  },
  {
   "cell_type": "code",
   "execution_count": 29,
   "metadata": {
    "collapsed": true
   },
   "outputs": [],
   "source": [
    "final_df.to_csv(\"output.csv\", sep=\"|\")"
   ]
  },
  {
   "cell_type": "code",
   "execution_count": null,
   "metadata": {
    "collapsed": true
   },
   "outputs": [],
   "source": []
  },
  {
   "cell_type": "code",
   "execution_count": null,
   "metadata": {
    "collapsed": true
   },
   "outputs": [],
   "source": []
  },
  {
   "cell_type": "code",
   "execution_count": null,
   "metadata": {
    "collapsed": true
   },
   "outputs": [],
   "source": []
  }
 ],
 "metadata": {
  "kernelspec": {
   "display_name": "Python 3",
   "language": "python",
   "name": "python3"
  },
  "language_info": {
   "codemirror_mode": {
    "name": "ipython",
    "version": 3
   },
   "file_extension": ".py",
   "mimetype": "text/x-python",
   "name": "python",
   "nbconvert_exporter": "python",
   "pygments_lexer": "ipython3",
   "version": "3.6.3"
  }
 },
 "nbformat": 4,
 "nbformat_minor": 2
}
